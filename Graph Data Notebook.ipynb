{
 "cells": [
  {
   "cell_type": "code",
   "execution_count": 20,
   "metadata": {},
   "outputs": [
    {
     "name": "stderr",
     "output_type": "stream",
     "text": [
      "ibmqfactory.load_account:WARNING:2020-08-07 08:11:08,937: Credentials are already in use. The existing account in the session will be replaced.\n"
     ]
    }
   ],
   "source": [
    "from qiskit import BasicAer, Aer, IBMQ\n",
    "from qiskit.aqua import QuantumInstance, aqua_globals\n",
    "from qiskit.aqua.algorithms import VQE, ExactEigensolver, NumPyEigensolver\n",
    "from qiskit.aqua.components.initial_states import Zero\n",
    "from qiskit.aqua.components.optimizers import ADAM, AQGD, COBYLA, L_BFGS_B, SLSQP\n",
    "from qiskit.aqua.components.optimizers import SPSA, TNC, POWELL, P_BFGS\n",
    "from qiskit.aqua.components.optimizers import NFT, NELDER_MEAD, GSLS, CG\n",
    "from qiskit.aqua.components.variational_forms import RY, RYRZ, SwapRZ\n",
    "from qiskit.aqua.operators import WeightedPauliOperator, Z2Symmetries\n",
    "from qiskit.chemistry import FermionicOperator\n",
    "from qiskit.chemistry.drivers import PySCFDriver, UnitsType\n",
    "from qiskit.chemistry.components.variational_forms import UCCSD\n",
    "from qiskit.chemistry.components.initial_states import HartreeFock\n",
    "\n",
    "from qiskit.providers.aer import QasmSimulator\n",
    "from qiskit.providers.aer.noise import NoiseModel\n",
    "from qiskit.providers.aer.noise.errors import QuantumError, ReadoutError\n",
    "from qiskit.providers.aer.noise.errors import pauli_error\n",
    "from qiskit.providers.aer.noise.errors import depolarizing_error\n",
    "from qiskit.providers.aer.noise.errors import thermal_relaxation_error\n",
    "\n",
    "from qiskit.providers.aer import noise\n",
    "\n",
    "from qiskit.tools.monitor import job_monitor\n",
    "\n",
    "from qiskit.providers.ibmq import least_busy\n",
    "\n",
    "import warnings\n",
    "\n",
    "IBMQ.load_account()\n",
    "provider = IBMQ.get_provider(group='open')\n",
    "backend = least_busy(provider.backends(simulator=False, operational=True))\n",
    "\n",
    "import numpy as np\n",
    "import matplotlib.pyplot as plt\n",
    "from functools import partial"
   ]
  },
  {
   "cell_type": "code",
   "execution_count": 21,
   "metadata": {},
   "outputs": [],
   "source": [
    "inter_dist = 1.5108585\n",
    "driver = PySCFDriver(atom='Li .0 .0 .0; H .0 .0' + str(inter_dist), unit=UnitsType.ANGSTROM, charge=0, spin=0, basis='sto3g')"
   ]
  },
  {
   "cell_type": "code",
   "execution_count": 22,
   "metadata": {},
   "outputs": [],
   "source": [
    "# please be aware that the idx here with respective to original idx\n",
    "freeze_list = [0]\n",
    "remove_list = [-3, -2] # negative number denotes the reverse order"
   ]
  },
  {
   "cell_type": "code",
   "execution_count": 23,
   "metadata": {},
   "outputs": [],
   "source": [
    "#Classically solve for the lowest eigenvalue\n",
    "def exact_solver(qubitOp):\n",
    "    ee = ExactEigensolver(qubitOp)\n",
    "    result = ee.run()\n",
    "    ref = result['energy']\n",
    "    print('Reference value: {}'.format(ref))\n",
    "    return ref"
   ]
  },
  {
   "cell_type": "code",
   "execution_count": 24,
   "metadata": {},
   "outputs": [],
   "source": [
    "backend = BasicAer.get_backend('statevector_simulator')"
   ]
  },
  {
   "cell_type": "code",
   "execution_count": 25,
   "metadata": {},
   "outputs": [],
   "source": [
    "#Define our noise model based on the ibmq_essex chip\n",
    "chip_name = 'ibmq_essex'\n",
    "device = provider.get_backend(chip_name)\n",
    "coupling_map = device.configuration().coupling_map\n",
    "noise_model = noise.device.basic_device_noise_model(device.properties())\n",
    "basis_gates = noise_model.basis_gates"
   ]
  },
  {
   "cell_type": "code",
   "execution_count": null,
   "metadata": {
    "scrolled": true
   },
   "outputs": [
    {
     "name": "stdout",
     "output_type": "stream",
     "text": [
      "# of electrons: 4\n",
      "# of spin orbitals: 12\n",
      "Reference value: 0.6401176053547839\n",
      "==================================================\n",
      "Reference value: 0.6401176053547839\n",
      "SPSA VQE energy:  0.64011764744867\n",
      "HF energy: -7.863382128457063\n",
      "SPSA Reference Value Percent Error: 6.575961306383876e-06%\n",
      "SPSA Energy Value Percent Error: 5.222058428562699%\n",
      "==================================================\n"
     ]
    }
   ],
   "source": [
    "# Classically solve for the lowest eigenvalue\n",
    "# This is used just to compare how well you VQE approximation is performing\n",
    "def exact_solver(qubitOp):\n",
    "    ee = ExactEigensolver(qubitOp)\n",
    "    result = ee.run()\n",
    "    ref = result['energy']\n",
    "    print('Reference value: {}'.format(ref))\n",
    "    return ref\n",
    "\n",
    "counts = []\n",
    "values = []\n",
    "params = []\n",
    "deviation = []\n",
    "def store_intermediate_result(eval_count, parameters, mean, std):\n",
    "    counts.append(eval_count)\n",
    "    values.append(mean)\n",
    "    params.append(parameters)\n",
    "    deviation.append(std)\n",
    "\n",
    "# Define your function for computing the qubit operations of LiH\n",
    "def compute_LiH_qubitOp(map_type, inter_dist, basis='sto3g'):\n",
    "    \n",
    "    # Specify details of our molecule\n",
    "    driver = PySCFDriver(atom='Li 0 0 0; H 0 0 ' + str(inter_dist), unit=UnitsType.ANGSTROM, charge=0, spin=0, basis=basis)\n",
    "\n",
    "    # Compute relevant 1 and 2 body integrals.\n",
    "    molecule = driver.run()\n",
    "    h1 = molecule.one_body_integrals\n",
    "    h2 = molecule.two_body_integrals\n",
    "    \n",
    "    num_particles = molecule.num_alpha + molecule.num_beta\n",
    "    num_spin_orbitals = molecule.num_orbitals * 2\n",
    "    nuclear_repulsion_energy = molecule.nuclear_repulsion_energy\n",
    "    \n",
    "    print(\"# of electrons: {}\".format(num_particles))\n",
    "    print(\"# of spin orbitals: {}\".format(num_spin_orbitals))\n",
    "\n",
    "    # Please be aware that the idx here with respective to original idx\n",
    "    freeze_list = [0,1,6,7]\n",
    "    remove_list = [0,1,4,5] # negative number denotes the reverse order\n",
    "    \n",
    "    # Prepare full idx of freeze_list and remove_list\n",
    "    # Convert all negative idx to positive\n",
    "    \n",
    "    num_spin_orbitals -= len(remove_list)\n",
    "\n",
    "    # Prepare fermionic hamiltonian with orbital freezing and eliminating, and then map to qubit hamiltonian\n",
    "    # and if PARITY mapping is selected, reduction qubits\n",
    "    energy_shift = 0.0\n",
    "    qubit_reduction = True if map_type == 'parity' else False\n",
    "    ferOp = FermionicOperator(h1=h1, h2=h2)\n",
    "    if len(freeze_list) > 0:\n",
    "        ferOp, energy_shift = ferOp.fermion_mode_freezing(freeze_list)\n",
    "        num_spin_orbitals -= len(freeze_list)\n",
    "        num_particles -= len(freeze_list)//2\n",
    "    if len(remove_list) > 0:\n",
    "        ferOp = ferOp.fermion_mode_elimination(remove_list)\n",
    "    qubitOp = ferOp.mapping(map_type)\n",
    "    qubitOp = Z2Symmetries.two_qubit_reduction(qubitOp, num_particles)\n",
    "    return qubitOp, num_spin_orbitals, num_particles, qubit_reduction, molecule, energy_shift, nuclear_repulsion_energy\n",
    "\n",
    "qubitOp, num_spin_orbitals, num_particles, qubit_reduction, molecule, energy_shift, nuclear_repulsion_energy = compute_LiH_qubitOp(map_type, inter_dist)\n",
    "\n",
    "# Classically solve for the exact solution and use that as your reference value\n",
    "ref = exact_solver(qubitOp)\n",
    "\n",
    "# Specify your initial state\n",
    "init_state = HartreeFock(num_spin_orbitals, num_particles, qubit_mapping=map_type)\n",
    "\n",
    "# Select a state preparation ansatz\n",
    "# Equivalently, choose a parameterization for our trial wave function.\n",
    "RY_var_form = RY(qubitOp.num_qubits, depth=2)\n",
    "\n",
    "# Choose where to run/simulate our circuit\n",
    "quantum_instance = backend\n",
    "\n",
    "max_eval = 1000\n",
    "\n",
    "# Choose the classical optimizer\n",
    "SPSA_optimizer = SPSA(max_eval)\n",
    "\n",
    "warnings.filterwarnings(\"ignore\")\n",
    "SPSA_vqe = VQE(qubitOp, RY_var_form, SPSA_optimizer, callback=store_intermediate_result)\n",
    "\n",
    "SPSA_vqe_eigenvalue = np.real(SPSA_vqe.run(backend)['eigenvalue'])\n",
    "\n",
    "# Now compare the results of different compositions of your VQE algorithm!\n",
    "SPSA_vqe_result = np.real(energy_shift + SPSA_vqe_eigenvalue)\n",
    "\n",
    "print(\"==================================================\")\n",
    "print('Reference value: {}'.format(ref))\n",
    "print(\"SPSA VQE energy: \", SPSA_vqe_eigenvalue)\n",
    "print(\"HF energy: {}\".format(molecule.hf_energy))\n",
    "print(\"SPSA Reference Value Percent Error: \" + str(abs((SPSA_vqe_eigenvalue-ref)/ref)*100) + \"%\")\n",
    "print(\"SPSA Energy Value Percent Error: \" + str(np.real(abs((SPSA_vqe_result-molecule.hf_energy)/molecule.hf_energy))*100) + \"%\")\n",
    "print(\"==================================================\")"
   ]
  }
 ],
 "metadata": {
  "kernelspec": {
   "display_name": "Python 3",
   "language": "python",
   "name": "python3"
  }
 },
 "nbformat": 4,
 "nbformat_minor": 4
}
