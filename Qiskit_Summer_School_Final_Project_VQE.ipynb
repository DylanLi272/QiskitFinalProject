{
  "nbformat": 4,
  "nbformat_minor": 0,
  "metadata": {
    "kernelspec": {
      "display_name": "Python 3",
      "language": "python",
      "name": "python3"
    },
    "language_info": {
      "codemirror_mode": {
        "name": "ipython",
        "version": 3
      },
      "file_extension": ".py",
      "mimetype": "text/x-python",
      "name": "python",
      "nbconvert_exporter": "python",
      "pygments_lexer": "ipython3",
      "version": "3.6.9"
    },
    "colab": {
      "name": "Qiskit Summer School Final Project VQE.ipynb",
      "provenance": [],
      "collapsed_sections": []
    }
  },
  "cells": [
    {
      "cell_type": "code",
      "metadata": {
        "id": "ahCgFwzFQytI",
        "colab_type": "code",
        "colab": {}
      },
      "source": [
        "!pip install qiskit\n",
        "\n",
        "from IPython.display import clear_output\n",
        "clear_output()"
      ],
      "execution_count": 3,
      "outputs": []
    },
    {
      "cell_type": "code",
      "metadata": {
        "id": "hMAvLDYuQp0E",
        "colab_type": "code",
        "colab": {}
      },
      "source": [
        "from qiskit import BasicAer, Aer, IBMQ\n",
        "from qiskit.aqua import QuantumInstance, aqua_globals\n",
        "from qiskit.aqua.algorithms import VQE, ExactEigensolver\n",
        "from qiskit.aqua.components.initial_states import Zero\n",
        "from qiskit.aqua.components.optimizers import COBYLA, L_BFGS_B, SLSQP, SPSA, CRS\n",
        "from qiskit.aqua.components.variational_forms import RY, RYRZ, SwapRZ\n",
        "from qiskit.aqua.operators import WeightedPauliOperator, Z2Symmetries\n",
        "from qiskit.chemistry import FermionicOperator\n",
        "from qiskit.chemistry.drivers import PySCFDriver, UnitsType\n",
        "from qiskit.chemistry.components.variational_forms import UCCSD\n",
        "from qiskit.chemistry.components.initial_states import HartreeFock\n",
        "\n",
        "from qiskit.providers.aer import QasmSimulator\n",
        "from qiskit.providers.aer.noise import NoiseModel\n",
        "from qiskit.providers.aer.noise.errors import QuantumError, ReadoutError\n",
        "from qiskit.providers.aer.noise.errors import pauli_error\n",
        "from qiskit.providers.aer.noise.errors import depolarizing_error\n",
        "from qiskit.providers.aer.noise.errors import thermal_relaxation_error\n",
        "\n",
        "from qiskit.providers.aer import noise\n",
        "IBMQ.save_account('', overwrite=True)\n",
        "provider = IBMQ.load_account()\n",
        "\n",
        "import numpy as np\n",
        "import matplotlib.pyplot as plt\n",
        "from functools import partial"
      ],
      "execution_count": 4,
      "outputs": []
    },
    {
      "cell_type": "markdown",
      "metadata": {
        "id": "jPtWyIgdQp0H",
        "colab_type": "text"
      },
      "source": [
        "# Qiskit Summer School Final Project: VQE\n",
        "\n",
        "#### For this optional final challenge, you will be designing your own implementation of a variational quantum eigensolver (VQE) algorithm that simulates the ground state energy of the Lithium Hydride (LiH) molecule. Through out this challenge, you will be able to make choices on how you want to compose your simulation and what is the final deliverable that you want to showcase to your classmates and friends."
      ]
    },
    {
      "cell_type": "markdown",
      "metadata": {
        "id": "sVL-_g9-Qp0I",
        "colab_type": "text"
      },
      "source": [
        "# Defining your molecule:\n",
        "In this challenge we will focus on LiH using the sto3g basis with the PySCF driver, which can be described in Qiskit as follows, where 'inter_dist' is the interatomic distance."
      ]
    },
    {
      "cell_type": "code",
      "metadata": {
        "id": "VyGflw0pQp0I",
        "colab_type": "code",
        "colab": {}
      },
      "source": [
        "driver = PySCFDriver(atom='Li .0 .0 .0; H .0 .0' + str(inter_dist), unit=UnitsType.ANGSTROM, charge=0, spin=0, basis='sto3g')"
      ],
      "execution_count": null,
      "outputs": []
    },
    {
      "cell_type": "markdown",
      "metadata": {
        "id": "EjUfSmbGQp0L",
        "colab_type": "text"
      },
      "source": [
        "We also setup the molecular orbitals to be considered and can reduce the problem size when we map to the qubit Hamiltonian so the amount of time required for the simulations are reasonable for a laptop computer."
      ]
    },
    {
      "cell_type": "code",
      "metadata": {
        "id": "K-8EkFGHQp0M",
        "colab_type": "code",
        "colab": {}
      },
      "source": [
        "# please be aware that the idx here with respective to original idx\n",
        "freeze_list = [0]\n",
        "remove_list = [-3, -2] # negative number denotes the reverse order"
      ],
      "execution_count": null,
      "outputs": []
    },
    {
      "cell_type": "markdown",
      "metadata": {
        "id": "IB6KF8wvQp0O",
        "colab_type": "text"
      },
      "source": [
        "#### Once you have computed the qubit operations for LiH, you can use the following function to classical solve for the exact solution. This is used just to compare how well your VQE approximation is performing."
      ]
    },
    {
      "cell_type": "code",
      "metadata": {
        "id": "3X1dYrglQp0O",
        "colab_type": "code",
        "colab": {}
      },
      "source": [
        "#Classically solve for the lowest eigenvalue\n",
        "def exact_solver(qubitOp):\n",
        "    ee = ExactEigensolver(qubitOp)\n",
        "    result = ee.run()\n",
        "    ref = result['energy']\n",
        "    print('Reference value: {}'.format(ref))\n",
        "    return ref"
      ],
      "execution_count": null,
      "outputs": []
    },
    {
      "cell_type": "markdown",
      "metadata": {
        "id": "sxHRt6ZVQp0R",
        "colab_type": "text"
      },
      "source": [
        "Here we ask you to use the `statevector_simulator` as the simulation backend for your VQE algorithm."
      ]
    },
    {
      "cell_type": "code",
      "metadata": {
        "id": "0H3N5TjtQp0S",
        "colab_type": "code",
        "colab": {}
      },
      "source": [
        "backend = BasicAer.get_backend('statevector_simulator')"
      ],
      "execution_count": null,
      "outputs": []
    },
    {
      "cell_type": "markdown",
      "metadata": {
        "id": "_9gX1gENQp0W",
        "colab_type": "text"
      },
      "source": [
        "### Now you can start choosing the components that make up your VQE algorithm!\n",
        "\n",
        "#### 1. Optimizers\n",
        "The most commonly used optimizers are `COBYLA`, `L_BFGS_B`, `SLSQP` and `SPSA`. \n",
        "\n",
        "#### 2. Qubit mapping\n",
        "There are several different mappings for your qubit Hamiltonian, `parity`, `bravyi_kitaev`, `jordan_wigner`, which in some cases can allow you to further reduce the problem size.\n",
        "\n",
        "#### 3. Initial state\n",
        "There are different initial state that you can choose to start your simulation. Typically people choose from the zero state \n",
        "`init_state = Zero(qubitOp.num_qubits)` \n",
        "and the UCCSD initial state\n",
        "`HartreeFock(qubitOp.num_qubits, num_spin_orbitals, num_particles, map_type, qubit_reduction)`\n",
        "\n",
        "#### 4. Parameterized circuit\n",
        "There are different choices you can make on the form of variational forms of your parameterized circuit.\n",
        "\n",
        "`UCCSD_var_form = UCCSD(num_qubits, depth=depth, num_orbitals=num_spin_orbitals, num_particles=num_particles)`\n",
        "    \n",
        "`RY_var_form = RY(num_qubits, depth=depth)`\n",
        "    \n",
        "`RYRZ_var_form = RYRZ(num_qubits, depth=depth)`\n",
        "    \n",
        "`swaprz_var_form = SwapRZ(num_qubits, depth=depth)`\n",
        "\n",
        "#### 5. Simulation backend\n",
        "There are different simulation backends that you can use to perform your simulation\n",
        "\n",
        "`backend = BasicAer.get_backend('statevector_simulator')`\n",
        "\n",
        "`backend=Aer.get_backend('qasm_simulator')`"
      ]
    },
    {
      "cell_type": "markdown",
      "metadata": {
        "id": "dGeNXxuDQp0X",
        "colab_type": "text"
      },
      "source": [
        "### Compare the convergence of different choices for building your VQE algorithm\n",
        "\n",
        "Among the above choices, which combination do you think would out perform others and give you the lowest estimation of LiH ground state energy with the quickest convergence? Compare the results of different combinations against each other and against the classically computed exact solution at a fixed interatomic distance, for example `inter_dist=1.6`. \n",
        "\n",
        "To access the intermediate data during the optimization, you would need to utilize the `callback` option in the VQE function:\n",
        "\n",
        "`def store_intermediate_result(eval_count, parameters, mean, std):\n",
        "            counts.append(eval_count)\n",
        "            values.append(mean)\n",
        "            params.append(parameters)\n",
        "            deviation.append(std)`\n",
        "            \n",
        "`algo = VQE(qubitOp, var_form, optimizer, callback=store_intermediate_result)`\n",
        "\n",
        "`algo_result = algo.run(quantum_instance)`\n",
        "\n",
        "An example of comparing the performance of different optimizers while using the RY variational ansatz could like the following:\n",
        "![RY_error.png](attachment:RY_error.png)\n",
        "![RY_convergence.png](attachment:RY_convergence.png)"
      ]
    },
    {
      "cell_type": "markdown",
      "metadata": {
        "id": "ql8aU5GsQp0Y",
        "colab_type": "text"
      },
      "source": [
        "### Compute the ground state energy of LiH at various different interatomic distances\n",
        "By changing the parameter `inter_dist`, you can use your VQE algorithm to calculate the ground state energy of LiH at various interatomic distances, and potentially produce a plot as you are seeing here. Note that the VQE results are very close to the exact results, and so the exact energy curve is hidden by the VQE curve.\n",
        "<img src=\"attachment:VQE_dist.png\" width=\"600\">"
      ]
    },
    {
      "cell_type": "markdown",
      "metadata": {
        "id": "KUY8DAE1Qp0Y",
        "colab_type": "text"
      },
      "source": [
        "### How does your VQE algorithm perform in the presence of noise?\n",
        "Trying importing the noise model and qubit coupling map of a real IBM quantum device into your simulation. You can use the imported noise model in your simulation by passing it into your quantum instance. You can also try enabling error mitigation in order to lower the effect of noise on your simulation results."
      ]
    },
    {
      "cell_type": "code",
      "metadata": {
        "id": "cuaWiDb3Qp0Z",
        "colab_type": "code",
        "colab": {},
        "outputId": "b29e477a-dbbd-4f1c-8585-c1522f963117"
      },
      "source": [
        "#Define our noise model based on the ibmq_essex chip\n",
        "chip_name = 'ibmq_essex'\n",
        "device = provider.get_backend(chip_name)\n",
        "coupling_map = device.configuration().coupling_map\n",
        "noise_model = noise.device.basic_device_noise_model(device.properties())\n",
        "basis_gates = noise_model.basis_gates"
      ],
      "execution_count": null,
      "outputs": [
        {
          "output_type": "stream",
          "text": [
            "/home/simplicity/.local/lib/python3.6/site-packages/qiskit/providers/aer/noise/device/basic_device_model.py:115: DeprecationWarning: This function is been deprecated and moved to a method of the`NoiseModel` class. For equivalent functionality use `NoiseModel.from_backend(properties, **kwargs).\n",
            "  DeprecationWarning)\n"
          ],
          "name": "stderr"
        }
      ]
    },
    {
      "cell_type": "markdown",
      "metadata": {
        "id": "8FtY9IIAQp0c",
        "colab_type": "text"
      },
      "source": [
        "An example of comparing the energy convergence of using SPSA and COBYLA with the ibmq_essex noise model could look like the following\n",
        "![noise.png](attachment:noise.png)"
      ]
    },
    {
      "cell_type": "markdown",
      "metadata": {
        "id": "12KL18qRQp0c",
        "colab_type": "text"
      },
      "source": [
        "### Now given the choices you have made above, try writing your own VQE algorithm in Qiskit. You can find an example of using Qiskit to simuate molecules with VQE [here](https://qiskit.org/textbook/ch-applications/vqe-molecules.html)."
      ]
    },
    {
      "cell_type": "code",
      "metadata": {
        "id": "4clJgpFtQp0c",
        "colab_type": "code",
        "colab": {
          "base_uri": "https://localhost:8080/",
          "height": 1000
        },
        "outputId": "fcc74b99-e4c8-4245-e9fe-87a00b332fa5"
      },
      "source": [
        "# Classically solve for the lowest eigenvalue\n",
        "# This is used just to compare how well you VQE approximation is performing\n",
        "def exact_solver(qubitOp):\n",
        "    ee = ExactEigensolver(qubitOp)\n",
        "    result = ee.run()\n",
        "    ref = result['energy']\n",
        "    print('Reference value: {}'.format(ref))\n",
        "    return ref\n",
        "\n",
        "# Define your function for computing the qubit operations of LiH\n",
        "def compute_LiH_qubitOp(map_type, inter_dist, basis='sto3g'):\n",
        "    \n",
        "    # Specify details of our molecule\n",
        "    driver = PySCFDriver(atom='Li .0 .0 .0; H .0 .0 ' + str(inter_dist), unit=UnitsType.ANGSTROM, charge=0, spin=0, basis=basis)\n",
        "\n",
        "    # Compute relevant 1 and 2 body integrals.\n",
        "    molecule = driver.run()\n",
        "    h1 = molecule.one_body_integrals\n",
        "    h2 = molecule.two_body_integrals\n",
        "    nuclear_repulsion_energy = molecule.nuclear_repulsion_energy\n",
        "    \n",
        "    num_particles = molecule.num_alpha + molecule.num_beta\n",
        "    num_spin_orbitals = molecule.num_orbitals * 2\n",
        "    print(\"NR energy: {}\".format(molecule.nuclear_repulsion_energy))\n",
        "    print(\"HF energy: {}\".format(molecule.hf_energy - molecule.nuclear_repulsion_energy))\n",
        "    print(\"# of electrons: {}\".format(num_particles))\n",
        "    print(\"# of spin orbitals: {}\".format(num_spin_orbitals))\n",
        "\n",
        "\n",
        "    print()\n",
        "    print(h1)\n",
        "    print()\n",
        "\n",
        "\n",
        "    # Please be aware that the idx here with respective to original idx\n",
        "    freeze_list = [0, 1, 6, 7]\n",
        "    #remove_list = [-3, -2] # negative number denotes the reverse order\n",
        "    remove_list = []\n",
        "    \n",
        "    # Prepare full idx of freeze_list and remove_list\n",
        "    # Convert all negative idx to positive\n",
        "   # remove_list = [x % molecule.num_orbitals for x in remove_list]\n",
        "   # freeze_list = [x % molecule.num_orbitals for x in freeze_list]\n",
        "    \n",
        "    # Update the idx in remove_list of the idx after frozen, since the idx of orbitals are changed after freezing\n",
        "   # remove_list = [x - len(freeze_list) for x in remove_list]\n",
        "   # remove_list += [x + molecule.num_orbitals - len(freeze_list)  for x in remove_list]\n",
        "   # freeze_list += [x + molecule.num_orbitals for x in freeze_list]\n",
        "\n",
        "    # Prepare fermionic hamiltonian with orbital freezing and eliminating, and then map to qubit hamiltonian\n",
        "    # and if PARITY mapping is selected, reduction qubits\n",
        "    energy_shift = 0.0\n",
        "    qubit_reduction = True if map_type == 'parity' else False\n",
        "\n",
        "    ferOp = FermionicOperator(h1=h1, h2=h2)\n",
        "    if len(freeze_list) > 0:\n",
        "        ferOp, energy_shift = ferOp.fermion_mode_freezing(freeze_list)\n",
        "        num_spin_orbitals -= len(freeze_list)\n",
        "        num_particles -= len(freeze_list)\n",
        "    if len(remove_list) > 0:\n",
        "        ferOp = ferOp.fermion_mode_elimination(remove_list)\n",
        "        num_spin_orbitals -= len(remove_list)\n",
        "    \n",
        "    qubitOp = ferOp.mapping(map_type=map_type)\n",
        "    qubitOp = Z2Symmetries.two_qubit_reduction(qubitOp, num_particles) if qubit_reduction else qubitOp\n",
        "    qubitOp.chop(10**-10)\n",
        "\n",
        "    return qubitOp, num_spin_orbitals, num_particles, qubit_reduction, molecule\n",
        "\n",
        "map_type = 'parity'\n",
        "inter_dist = 1.5108585\n",
        "\n",
        "qubitOp, num_spin_orbitals, num_particles, qubit_reduction, molecule = compute_LiH_qubitOp(map_type, inter_dist)\n",
        "#print(qubitOp)\n",
        "#print(num_spin_orbitals)\n",
        "#print(num_particles)\n",
        "#print(qubit_reduction)\n",
        "\n",
        "# Classically solve for the exact solution and use that as your reference value\n",
        "ref = exact_solver(qubitOp)\n",
        "\n",
        "# Specify your initial state\n",
        "init_state = HartreeFock(num_orbitals=num_spin_orbitals, num_particles=num_particles, qubit_mapping=map_type)\n",
        "\n",
        "# Select a state preparation ansatz\n",
        "# Equivalently, choose a parameterization for our trial wave function.\n",
        "var_form = UCCSD(num_orbitals=num_spin_orbitals, num_particles=num_particles, qubit_mapping=map_type,\n",
        "                      excitation_type='s', method_singles='beta',\n",
        "                      initial_state=init_state, two_qubit_reduction=False, reps=2)\n",
        "\n",
        "# Choose where to run/simulate our circuit\n",
        "quantum_instance = Aer.get_backend('qasm_simulator')\n",
        "\n",
        "# Choose the classical optimizer\n",
        "#optimizer = \n",
        "\n",
        "# Run your VQE instance\n",
        "vqe = VQE(qubitOp, var_form, optimizer)\n",
        "\n",
        "# Now compare the results of different compositions of your VQE algorithm!"
      ],
      "execution_count": 14,
      "outputs": [
        {
          "output_type": "stream",
          "text": [
            "NR energy: 1.0507480566578538\n",
            "HF energy: -8.91413018511492\n",
            "# of electrons: 4\n",
            "# of spin orbitals: 12\n",
            "\n",
            "[[-4.74672736  0.10910944  0.16802524  0.          0.         -0.02676891\n",
            "   0.          0.          0.          0.          0.          0.        ]\n",
            " [ 0.10910944 -1.52771478  0.0353301   0.          0.         -0.07955265\n",
            "   0.          0.          0.          0.          0.          0.        ]\n",
            " [ 0.16802524  0.0353301  -1.1317496   0.          0.          0.0321057\n",
            "   0.          0.          0.          0.          0.          0.        ]\n",
            " [ 0.          0.          0.         -1.14428889  0.          0.\n",
            "   0.          0.          0.          0.          0.          0.        ]\n",
            " [ 0.          0.          0.          0.         -1.14428889  0.\n",
            "   0.          0.          0.          0.          0.          0.        ]\n",
            " [-0.02676891 -0.07955265  0.0321057   0.          0.         -0.93545574\n",
            "   0.          0.          0.          0.          0.          0.        ]\n",
            " [ 0.          0.          0.          0.          0.          0.\n",
            "  -4.74672736  0.10910944  0.16802524  0.          0.         -0.02676891]\n",
            " [ 0.          0.          0.          0.          0.          0.\n",
            "   0.10910944 -1.52771478  0.0353301   0.          0.         -0.07955265]\n",
            " [ 0.          0.          0.          0.          0.          0.\n",
            "   0.16802524  0.0353301  -1.1317496   0.          0.          0.0321057 ]\n",
            " [ 0.          0.          0.          0.          0.          0.\n",
            "   0.          0.          0.         -1.14428889  0.          0.        ]\n",
            " [ 0.          0.          0.          0.          0.          0.\n",
            "   0.          0.          0.          0.         -1.14428889  0.        ]\n",
            " [ 0.          0.          0.          0.          0.          0.\n",
            "  -0.02676891 -0.07955265  0.0321057   0.          0.         -0.93545574]]\n",
            "Reference value: -6.381524438354544e-16\n"
          ],
          "name": "stdout"
        },
        {
          "output_type": "stream",
          "text": [
            "/usr/local/lib/python3.6/dist-packages/qiskit/aqua/algorithms/eigen_solvers/numpy_eigen_solver.py:242: DeprecationWarning: Deprecated class ExactEigensolver, use NumPyEigensolver.\n",
            "  DeprecationWarning)\n",
            "/usr/local/lib/python3.6/dist-packages/qiskit/aqua/algorithms/eigen_solvers/eigen_solver_result.py:64: DeprecationWarning: energy deprecated, use eigenvalues property.\n",
            "  warnings.warn('energy deprecated, use eigenvalues property.', DeprecationWarning)\n"
          ],
          "name": "stderr"
        },
        {
          "output_type": "error",
          "ename": "ValueError",
          "evalue": "ignored",
          "traceback": [
            "\u001b[0;31m---------------------------------------------------------------------------\u001b[0m",
            "\u001b[0;31mValueError\u001b[0m                                Traceback (most recent call last)",
            "\u001b[0;32m<ipython-input-14-928f4a41641c>\u001b[0m in \u001b[0;36m<module>\u001b[0;34m()\u001b[0m\n\u001b[1;32m     86\u001b[0m var_form = UCCSD(num_orbitals=num_spin_orbitals, num_particles=num_particles, qubit_mapping=map_type,\n\u001b[1;32m     87\u001b[0m                       \u001b[0mexcitation_type\u001b[0m\u001b[0;34m=\u001b[0m\u001b[0;34m's'\u001b[0m\u001b[0;34m,\u001b[0m \u001b[0mmethod_singles\u001b[0m\u001b[0;34m=\u001b[0m\u001b[0;34m'beta'\u001b[0m\u001b[0;34m,\u001b[0m\u001b[0;34m\u001b[0m\u001b[0;34m\u001b[0m\u001b[0m\n\u001b[0;32m---> 88\u001b[0;31m                       initial_state=init_state, two_qubit_reduction=False, reps=2)\n\u001b[0m\u001b[1;32m     89\u001b[0m \u001b[0;34m\u001b[0m\u001b[0m\n\u001b[1;32m     90\u001b[0m \u001b[0;31m# Choose where to run/simulate our circuit\u001b[0m\u001b[0;34m\u001b[0m\u001b[0;34m\u001b[0m\u001b[0;34m\u001b[0m\u001b[0m\n",
            "\u001b[0;32m/usr/local/lib/python3.6/dist-packages/qiskit/chemistry/components/variational_forms/uccsd.py\u001b[0m in \u001b[0;36m__init__\u001b[0;34m(self, num_orbitals, num_particles, reps, active_occupied, active_unoccupied, initial_state, qubit_mapping, two_qubit_reduction, num_time_slices, shallow_circuit_concat, z2_symmetries, method_singles, method_doubles, excitation_type, same_spin_doubles, skip_commute_test)\u001b[0m\n\u001b[1;32m    153\u001b[0m                                            \u001b[0mmethod_singles\u001b[0m\u001b[0;34m=\u001b[0m\u001b[0mself\u001b[0m\u001b[0;34m.\u001b[0m\u001b[0m_method_singles\u001b[0m\u001b[0;34m,\u001b[0m\u001b[0;34m\u001b[0m\u001b[0;34m\u001b[0m\u001b[0m\n\u001b[1;32m    154\u001b[0m                                            \u001b[0mmethod_doubles\u001b[0m\u001b[0;34m=\u001b[0m\u001b[0mself\u001b[0m\u001b[0;34m.\u001b[0m\u001b[0m_method_doubles\u001b[0m\u001b[0;34m,\u001b[0m\u001b[0;34m\u001b[0m\u001b[0;34m\u001b[0m\u001b[0m\n\u001b[0;32m--> 155\u001b[0;31m                                            excitation_type=self._excitation_type,)\n\u001b[0m\u001b[1;32m    156\u001b[0m \u001b[0;34m\u001b[0m\u001b[0m\n\u001b[1;32m    157\u001b[0m         \u001b[0mself\u001b[0m\u001b[0;34m.\u001b[0m\u001b[0m_hopping_ops\u001b[0m\u001b[0;34m,\u001b[0m \u001b[0mself\u001b[0m\u001b[0;34m.\u001b[0m\u001b[0m_num_parameters\u001b[0m \u001b[0;34m=\u001b[0m \u001b[0mself\u001b[0m\u001b[0;34m.\u001b[0m\u001b[0m_build_hopping_operators\u001b[0m\u001b[0;34m(\u001b[0m\u001b[0;34m)\u001b[0m\u001b[0;34m\u001b[0m\u001b[0;34m\u001b[0m\u001b[0m\n",
            "\u001b[0;32m/usr/local/lib/python3.6/dist-packages/qiskit/chemistry/components/variational_forms/uccsd.py\u001b[0m in \u001b[0;36mcompute_excitation_lists\u001b[0;34m(num_particles, num_orbitals, active_occ_list, active_unocc_list, same_spin_doubles, method_singles, method_doubles, excitation_type)\u001b[0m\n\u001b[1;32m    498\u001b[0m \u001b[0;34m\u001b[0m\u001b[0m\n\u001b[1;32m    499\u001b[0m         \u001b[0;32mif\u001b[0m \u001b[0mnum_particles\u001b[0m \u001b[0;34m<\u001b[0m \u001b[0;36m2\u001b[0m\u001b[0;34m:\u001b[0m\u001b[0;34m\u001b[0m\u001b[0;34m\u001b[0m\u001b[0m\n\u001b[0;32m--> 500\u001b[0;31m             \u001b[0;32mraise\u001b[0m \u001b[0mValueError\u001b[0m\u001b[0;34m(\u001b[0m\u001b[0;34m'Invalid number of particles {}'\u001b[0m\u001b[0;34m.\u001b[0m\u001b[0mformat\u001b[0m\u001b[0;34m(\u001b[0m\u001b[0mnum_particles\u001b[0m\u001b[0;34m)\u001b[0m\u001b[0;34m)\u001b[0m\u001b[0;34m\u001b[0m\u001b[0;34m\u001b[0m\u001b[0m\n\u001b[0m\u001b[1;32m    501\u001b[0m         \u001b[0;32mif\u001b[0m \u001b[0mnum_orbitals\u001b[0m \u001b[0;34m<\u001b[0m \u001b[0;36m4\u001b[0m \u001b[0;32mor\u001b[0m \u001b[0mnum_orbitals\u001b[0m \u001b[0;34m%\u001b[0m \u001b[0;36m2\u001b[0m \u001b[0;34m!=\u001b[0m \u001b[0;36m0\u001b[0m\u001b[0;34m:\u001b[0m\u001b[0;34m\u001b[0m\u001b[0;34m\u001b[0m\u001b[0m\n\u001b[1;32m    502\u001b[0m             \u001b[0;32mraise\u001b[0m \u001b[0mValueError\u001b[0m\u001b[0;34m(\u001b[0m\u001b[0;34m'Invalid number of orbitals {}'\u001b[0m\u001b[0;34m.\u001b[0m\u001b[0mformat\u001b[0m\u001b[0;34m(\u001b[0m\u001b[0mnum_orbitals\u001b[0m\u001b[0;34m)\u001b[0m\u001b[0;34m)\u001b[0m\u001b[0;34m\u001b[0m\u001b[0;34m\u001b[0m\u001b[0m\n",
            "\u001b[0;31mValueError\u001b[0m: Invalid number of particles 0"
          ]
        }
      ]
    },
    {
      "cell_type": "code",
      "metadata": {
        "id": "vAGva4eLQp0e",
        "colab_type": "code",
        "colab": {},
        "outputId": "bfb363fd-a782-4b39-93a3-fdfb7c120a3c"
      },
      "source": [
        "import qiskit.tools.jupyter\n",
        "%qiskit_version_table\n",
        "%qiskit_copyright"
      ],
      "execution_count": null,
      "outputs": [
        {
          "output_type": "display_data",
          "data": {
            "text/html": [
              "<h3>Version Information</h3><table><tr><th>Qiskit Software</th><th>Version</th></tr><tr><td>Qiskit</td><td>0.19.6</td></tr><tr><td>Terra</td><td>0.14.2</td></tr><tr><td>Aer</td><td>0.5.2</td></tr><tr><td>Ignis</td><td>0.3.3</td></tr><tr><td>Aqua</td><td>0.7.3</td></tr><tr><td>IBM Q Provider</td><td>0.7.2</td></tr><tr><th>System information</th></tr><tr><td>Python</td><td>3.8.3 (default, May 19 2020, 13:54:14) \n",
              "[Clang 10.0.0 ]</td></tr><tr><td>OS</td><td>Darwin</td></tr><tr><td>CPUs</td><td>4</td></tr><tr><td>Memory (Gb)</td><td>16.0</td></tr><tr><td colspan='2'>Thu Jul 23 13:53:19 2020 EDT</td></tr></table>"
            ],
            "text/plain": [
              "<IPython.core.display.HTML object>"
            ]
          },
          "metadata": {
            "tags": []
          }
        },
        {
          "output_type": "display_data",
          "data": {
            "text/html": [
              "<div style='width: 100%; background-color:#d5d9e0;padding-left: 10px; padding-bottom: 10px; padding-right: 10px; padding-top: 5px'><h3>This code is a part of Qiskit</h3><p>&copy; Copyright IBM 2017, 2020.</p><p>This code is licensed under the Apache License, Version 2.0. You may<br>obtain a copy of this license in the LICENSE.txt file in the root directory<br> of this source tree or at http://www.apache.org/licenses/LICENSE-2.0.<p>Any modifications or derivative works of this code must retain this<br>copyright notice, and modified files need to carry a notice indicating<br>that they have been altered from the originals.</p></div>"
            ],
            "text/plain": [
              "<IPython.core.display.HTML object>"
            ]
          },
          "metadata": {
            "tags": []
          }
        }
      ]
    }
  ]
}
